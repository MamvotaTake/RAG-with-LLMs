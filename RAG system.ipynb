{
 "cells": [
  {
   "cell_type": "markdown",
   "source": [
    "### Retrieval-Augmented Generation (RAG) with Large Language Models(LLMs)\n",
    "\n",
    "RAG models combine the power of language models with external knowledge sources to provide more informed and accurate responses.\n",
    "\n",
    "To implement the RAG Systems with LLMs the following steps were applied:\n",
    "\n",
    "1. Data preparation:\n",
    "- Study the data source and prepare the text for work. Divide the text into semantic parts (chunks) so that each chunk contains a complete thought or information block. The purpose of this step is to facilitate the process of text vectorization and improve the quality of information extraction.\n",
    "\n",
    "2. Choosing an LLM model and a vector database:\n",
    "- Determine which model from the Large Language Models family you will use to generate and vectorize text. Justify your choice.\n",
    "- Select a suitable vector database for storing and retrieving embeddings. Explain why it is suitable for your task.\n",
    "\n",
    "3. Implementation of the embedding extraction mechanism:\n",
    "- Develop a process for vectorizing text chunks using the selected LLM model.\n",
    "- Save the received embeddings in a vector database.\n",
    "- Implement a mechanism for searching and extracting information from a database based on vector search. The system must accept the request, convert it into a vector, find the most relevant chunks and generate a response based on them.\n",
    "\n",
    "4. System integration and testing:\n",
    "- Integrate system components into a single architecture inside Jupyter Notebook.\n",
    "- Test the system with examples of queries related to the content of the source document. Evaluate the quality of the responses you receive and make the necessary adjustments to the system."
   ],
   "metadata": {
    "collapsed": false
   },
   "id": "b5e2895e3c82095"
  },
  {
   "cell_type": "markdown",
   "source": [
    "### Notebook imports"
   ],
   "metadata": {
    "collapsed": false
   },
   "id": "591d37c6cd26b3a"
  },
  {
   "cell_type": "code",
   "outputs": [],
   "source": [
    "import os\n",
    "import fitz\n",
    "import requests\n",
    "from tqdm import tqdm\n",
    "import random\n",
    "import pandas as pd"
   ],
   "metadata": {
    "collapsed": false,
    "ExecuteTime": {
     "end_time": "2024-03-24T15:43:08.245373900Z",
     "start_time": "2024-03-24T15:43:01.593640900Z"
    }
   },
   "id": "25ab50b01fd0e094",
   "execution_count": 95
  },
  {
   "cell_type": "markdown",
   "source": [
    "### CONSTANTS"
   ],
   "metadata": {
    "collapsed": false
   },
   "id": "e0816b371d6eb8c"
  },
  {
   "cell_type": "code",
   "outputs": [],
   "source": [
    "FILE_PATH = 'TECHNOLOGICAL AND NUCLEAR SUPERVISION.pdf'"
   ],
   "metadata": {
    "collapsed": false,
    "ExecuteTime": {
     "end_time": "2024-03-24T14:51:42.467841200Z",
     "start_time": "2024-03-24T14:51:42.427661600Z"
    }
   },
   "id": "b29f681d54b1252f",
   "execution_count": 83
  },
  {
   "cell_type": "markdown",
   "source": [
    "### 1. Data Preparation"
   ],
   "metadata": {
    "collapsed": false
   },
   "id": "51497e5087ab38bf"
  },
  {
   "cell_type": "markdown",
   "source": [
    "#### 1.1 import PDF Document"
   ],
   "metadata": {
    "collapsed": false
   },
   "id": "ba459686756ca70f"
  },
  {
   "cell_type": "code",
   "outputs": [
    {
     "name": "stdout",
     "output_type": "stream",
     "text": [
      "[INFO] The file TECHNOLOGICAL AND NUCLEAR SUPERVISION.pdf already exists\n"
     ]
    }
   ],
   "source": [
    "# Downloading the document\n",
    "if not os.path.exists(FILE_PATH):\n",
    "    print(f'[INFO] File not found. Downloading...')\n",
    "    \n",
    "    # PDF url\n",
    "    url = \"https://github.com/MamvotaTake/RAG-with-LLMs/blob/master/System/TECHNOLOGICAL AND NUCLEAR SUPERVISION.pdf\"\n",
    "    \n",
    "    response = requests.get(url)\n",
    "    \n",
    "    filename = FILE_PATH\n",
    "    if response.status_code == 200:\n",
    "        with open(filename, 'wb') as file:\n",
    "            file.write(response.content)\n",
    "        print(f'[INFO] The file has been downloaded and saved as {filename}')\n",
    "    else:\n",
    "        print(f'[ERROR] The file could not be downloaded. Status code: {response.status_code}')\n",
    "    \n",
    "else:\n",
    "    print(f'[INFO] The file {FILE_PATH} already exists')"
   ],
   "metadata": {
    "collapsed": false,
    "ExecuteTime": {
     "end_time": "2024-03-24T14:51:42.629231800Z",
     "start_time": "2024-03-24T14:51:42.489947Z"
    }
   },
   "id": "516b070b090542fc",
   "execution_count": 84
  },
  {
   "cell_type": "markdown",
   "source": [
    "### Reading the PDF"
   ],
   "metadata": {
    "collapsed": false
   },
   "id": "b11c537b23776aeb"
  },
  {
   "cell_type": "code",
   "outputs": [],
   "source": [
    "def text_formatter(text: str) -> str:\n",
    "    \"\"\"Text formatting\"\"\"\n",
    "    cleaned_text = text.replace(\"\\n\", \" \").strip()\n",
    "    cleaned_text = cleaned_text.replace(\"--------------------\", \" \").strip()\n",
    "\n",
    "    \n",
    "    return cleaned_text\n"
   ],
   "metadata": {
    "collapsed": false,
    "ExecuteTime": {
     "end_time": "2024-03-24T15:47:32.253381100Z",
     "start_time": "2024-03-24T15:47:32.205835700Z"
    }
   },
   "id": "ba7ff7f0800575f3",
   "execution_count": 126
  },
  {
   "cell_type": "code",
   "outputs": [],
   "source": [
    "def open_and_read_pdf(file_path: str) -> list[dict]:\n",
    "    document = fitz.open(file_path)\n",
    "    \n",
    "    \n",
    "    \n",
    "    pages_and_text = []\n",
    "    \n",
    "    for page_number, page in tqdm(enumerate(document)):\n",
    "        text = page.get_text()\n",
    "        text = text_formatter(text=text)\n",
    "        pages_and_text.append({\n",
    "            'page_number': page_number + 1, \n",
    "            'page_char_count': len(text), \n",
    "            'page_word_count':len(text.split(\" \")),\n",
    "            'page_sentence_count_row': len(text.split(\". \")),\n",
    "            'page_token_count': len(text) / 4,\n",
    "            \"text\": text})\n",
    "    return pages_and_text"
   ],
   "metadata": {
    "collapsed": false,
    "ExecuteTime": {
     "end_time": "2024-03-24T15:47:32.920055500Z",
     "start_time": "2024-03-24T15:47:32.848481600Z"
    }
   },
   "id": "ff574f3ad24430cc",
   "execution_count": 127
  },
  {
   "cell_type": "code",
   "outputs": [
    {
     "name": "stderr",
     "output_type": "stream",
     "text": [
      "12it [00:00, 89.44it/s]\n"
     ]
    },
    {
     "data": {
      "text/plain": "[{'page_number': 1,\n  'page_char_count': 1362,\n  'page_word_count': 223,\n  'page_sentence_count_row': 16,\n  'page_token_count': 340.5,\n  'text': 'Зарегистрировано в Минюсте России 11 декабря 2020 г. N 61391       ФЕДЕРАЛЬНАЯ СЛУЖБА ПО ЭКОЛОГИЧЕСКОМУ,  ТЕХНОЛОГИЧЕСКОМУ И АТОМНОМУ НАДЗОРУ    ПРИКАЗ  от 20 октября 2020 г. N 420    ОБ УТВЕРЖДЕНИИ ФЕДЕРАЛЬНЫХ НОРМ И  ПРАВИЛ В ОБЛАСТИ ПРОМЫШЛЕННОЙ  БЕЗОПАСНОСТИ \"ПРАВИЛА ПРОВЕДЕНИЯ  ЭКСПЕРТИЗЫ ПРОМЫШЛЕННОЙ  БЕЗОПАСНОСТИ\"  (в ред. Приказа Ростехнадзора от 13.04.2022 N 120)    В соответствии со статьей 5 Федерального закона от 21 июля 1997 г. N 116-ФЗ \"О  промышленной  безопасности  опасных  производственных  объектов\"  (Собрание  законодательства Российской Федерации, 1997, N 30, ст. 3588; 2018, N 31, ст. 4860),  подпунктом 5.2.2.16(1) пункта 5 Положения о Федеральной службе по экологическому,  технологическому и атомному надзору, утвержденного постановлением Правительства  Российской Федерации от 30 июля 2004 г. N 401 \"О Федеральной службе по  экологическому, технологическому и атомному надзору\" (Собрание законодательства  Российской Федерации, 2004, N 32, ст. 3348; 2020, N 27, ст. 4248), приказываю:  1. Утвердить прилагаемые федеральные нормы и правила в области промышленной  безопасности \"Правила проведения экспертизы промышленной безопасности\".  2. Настоящий приказ вступает в силу с 1 января 2021 г. и действует до 1 января 2027 г.    Руководитель  А.В. АЛЕШИН    УТВЕРЖДЕНЫ  приказом Федеральной службы  по экологическому, технологическому'},\n {'page_number': 2,\n  'page_char_count': 2158,\n  'page_word_count': 301,\n  'page_sentence_count_row': 16,\n  'page_token_count': 539.5,\n  'text': 'и атомному надзору  от 20 октября 2020 г. N 420    ФЕДЕРАЛЬНЫЕ НОРМЫ И ПРАВИЛА В ОБЛАСТИ  ПРОМЫШЛЕННОЙ БЕЗОПАСНОСТИ \"ПРАВИЛА  ПРОВЕДЕНИЯ ЭКСПЕРТИЗЫ ПРОМЫШЛЕННОЙ  БЕЗОПАСНОСТИ\"  (в ред. Приказа Ростехнадзора от 13.04.2022 N 120)    I. Общие положения  1. Федеральные нормы и правила в области промышленной безопасности \"Правила  проведения экспертизы промышленной безопасности\" (далее - Правила) устанавливают  процедуру проведения экспертизы промышленной безопасности (далее - экспертиза),  требования к оформлению заключения экспертизы и требования к экспертам в области  промышленной безопасности (далее - эксперты).  2. Правила применяются при проведении экспертизы объектов, предусмотренных пунктом  1 статьи 13 Федерального закона от 21 июля 1997 г. N 116-ФЗ \"О промышленной  безопасности опасных производственных объектов\" (далее - объекты экспертизы).  3. Правила не применяются при проведении страховщиком экспертизы опасного объекта,  предусмотренной подпунктом 1 пункта 1 статьи 12 Федерального закона от 27 июля 2010  г. N 225-ФЗ \"Об обязательном страховании гражданской ответственности владельца  опасного объекта за причинение вреда в результате аварии на опасном объекте\"  (Собрание законодательства Российской Федерации, 2010, N 31, ст. 4194; 2018, N 52, ст.  8102).  4. Техническое устройство, применяемое на опасном производственном объекте,  подлежит экспертизе (если техническим регламентом не установлена иная форма оценки  соответствия указанного устройства обязательным требованиям):  до начала применения на опасном производственном объекте;  по истечении срока службы или при превышении количества циклов нагрузки такого  технического устройства, установленных его производителем;  при отсутствии в технической документации данных о сроке службы такого технического  устройства, если фактический срок его службы превышает двадцать лет;  после проведения работ, связанных с изменением конструкции, заменой материала  несущих элементов такого технического устройства, либо восстановительного ремонта  после аварии или инцидента на опасном производственном объекте, в результате которых  было повреждено такое техническое устройство. <1>'}]"
     },
     "execution_count": 128,
     "metadata": {},
     "output_type": "execute_result"
    }
   ],
   "source": [
    "pages_and_texts = open_and_read_pdf(file_path=FILE_PATH)\n",
    "pages_and_texts[:2]"
   ],
   "metadata": {
    "collapsed": false,
    "ExecuteTime": {
     "end_time": "2024-03-24T15:47:33.634236800Z",
     "start_time": "2024-03-24T15:47:33.394418300Z"
    }
   },
   "id": "8cd73b21e3826167",
   "execution_count": 128
  },
  {
   "cell_type": "code",
   "outputs": [
    {
     "data": {
      "text/plain": "[{'page_number': 1,\n  'page_char_count': 1362,\n  'page_word_count': 223,\n  'page_sentence_count_row': 16,\n  'page_token_count': 340.5,\n  'text': 'Зарегистрировано в Минюсте России 11 декабря 2020 г. N 61391       ФЕДЕРАЛЬНАЯ СЛУЖБА ПО ЭКОЛОГИЧЕСКОМУ,  ТЕХНОЛОГИЧЕСКОМУ И АТОМНОМУ НАДЗОРУ    ПРИКАЗ  от 20 октября 2020 г. N 420    ОБ УТВЕРЖДЕНИИ ФЕДЕРАЛЬНЫХ НОРМ И  ПРАВИЛ В ОБЛАСТИ ПРОМЫШЛЕННОЙ  БЕЗОПАСНОСТИ \"ПРАВИЛА ПРОВЕДЕНИЯ  ЭКСПЕРТИЗЫ ПРОМЫШЛЕННОЙ  БЕЗОПАСНОСТИ\"  (в ред. Приказа Ростехнадзора от 13.04.2022 N 120)    В соответствии со статьей 5 Федерального закона от 21 июля 1997 г. N 116-ФЗ \"О  промышленной  безопасности  опасных  производственных  объектов\"  (Собрание  законодательства Российской Федерации, 1997, N 30, ст. 3588; 2018, N 31, ст. 4860),  подпунктом 5.2.2.16(1) пункта 5 Положения о Федеральной службе по экологическому,  технологическому и атомному надзору, утвержденного постановлением Правительства  Российской Федерации от 30 июля 2004 г. N 401 \"О Федеральной службе по  экологическому, технологическому и атомному надзору\" (Собрание законодательства  Российской Федерации, 2004, N 32, ст. 3348; 2020, N 27, ст. 4248), приказываю:  1. Утвердить прилагаемые федеральные нормы и правила в области промышленной  безопасности \"Правила проведения экспертизы промышленной безопасности\".  2. Настоящий приказ вступает в силу с 1 января 2021 г. и действует до 1 января 2027 г.    Руководитель  А.В. АЛЕШИН    УТВЕРЖДЕНЫ  приказом Федеральной службы  по экологическому, технологическому'},\n {'page_number': 2,\n  'page_char_count': 2158,\n  'page_word_count': 301,\n  'page_sentence_count_row': 16,\n  'page_token_count': 539.5,\n  'text': 'и атомному надзору  от 20 октября 2020 г. N 420    ФЕДЕРАЛЬНЫЕ НОРМЫ И ПРАВИЛА В ОБЛАСТИ  ПРОМЫШЛЕННОЙ БЕЗОПАСНОСТИ \"ПРАВИЛА  ПРОВЕДЕНИЯ ЭКСПЕРТИЗЫ ПРОМЫШЛЕННОЙ  БЕЗОПАСНОСТИ\"  (в ред. Приказа Ростехнадзора от 13.04.2022 N 120)    I. Общие положения  1. Федеральные нормы и правила в области промышленной безопасности \"Правила  проведения экспертизы промышленной безопасности\" (далее - Правила) устанавливают  процедуру проведения экспертизы промышленной безопасности (далее - экспертиза),  требования к оформлению заключения экспертизы и требования к экспертам в области  промышленной безопасности (далее - эксперты).  2. Правила применяются при проведении экспертизы объектов, предусмотренных пунктом  1 статьи 13 Федерального закона от 21 июля 1997 г. N 116-ФЗ \"О промышленной  безопасности опасных производственных объектов\" (далее - объекты экспертизы).  3. Правила не применяются при проведении страховщиком экспертизы опасного объекта,  предусмотренной подпунктом 1 пункта 1 статьи 12 Федерального закона от 27 июля 2010  г. N 225-ФЗ \"Об обязательном страховании гражданской ответственности владельца  опасного объекта за причинение вреда в результате аварии на опасном объекте\"  (Собрание законодательства Российской Федерации, 2010, N 31, ст. 4194; 2018, N 52, ст.  8102).  4. Техническое устройство, применяемое на опасном производственном объекте,  подлежит экспертизе (если техническим регламентом не установлена иная форма оценки  соответствия указанного устройства обязательным требованиям):  до начала применения на опасном производственном объекте;  по истечении срока службы или при превышении количества циклов нагрузки такого  технического устройства, установленных его производителем;  при отсутствии в технической документации данных о сроке службы такого технического  устройства, если фактический срок его службы превышает двадцать лет;  после проведения работ, связанных с изменением конструкции, заменой материала  несущих элементов такого технического устройства, либо восстановительного ремонта  после аварии или инцидента на опасном производственном объекте, в результате которых  было повреждено такое техническое устройство. <1>'},\n {'page_number': 10,\n  'page_char_count': 2309,\n  'page_word_count': 307,\n  'page_sentence_count_row': 13,\n  'page_token_count': 577.25,\n  'text': 'выполнению этих работ и учитывать результаты работ, выполненных указанными  специалистами при оформлении заключения экспертизы. При этом в заключении  экспертизы должны указываться виды работ, выполняемые специалистами заказчика.  31. Акты по результатам проведения технического диагностирования, неразрушающего  контроля, разрушающего контроля технических устройств, обследования зданий и  сооружений составляются и подписываются лицами, проводившими работы, и  руководителем  проводившей  их  организации  или  руководителем  организации,  проводящей экспертизу, и прикладываются к заключению экспертизы.    IV. Оформление заключения экспертизы  32. Результатом проведения экспертизы является заключение в письменной форме,  которое подписывается руководителем организации, проводившей экспертизу, и  экспертом (экспертами), участвовавшим (участвовавшими) в проведении экспертизы,  либо  в  форме  электронного  документа,  подписанного  квалифицированными  электронными подписями руководителя организации, проводившей экспертизу, и  эксперта (экспертов), участвовавшего (участвовавших) в проведении экспертизы. <14>     <14> Пункт 4 статьи 13 Федерального закона от 21 июля 1997 г. N 116-ФЗ \"О  промышленной безопасности опасных производственных объектов\".    33. Экспертная организация должна осуществлять учет выданных заключений экспертизы  и хранить их копии.  34. Заключение экспертизы должно содержать:  1) титульный лист с указанием наименования заключения экспертизы;  2) вводную часть, включающую:  указание на конкретные структурные единицы нормативных правовых актов в области  промышленной безопасности (пункт, подпункт, часть, статья) на соответствие которым  проводится оценка соответствия объекта экспертизы;  сведения  об  экспертной  организации  (наименование  организации,  ее  организационно-правовая форма, дата выдачи лицензии на деятельность по проведению  экспертизы промышленной безопасности, ее номер);  сведения об экспертах, принимавших участие в проведении экспертизы (фамилия, имя,  отчество (при наличии), регистрационный номер квалификационного удостоверения  эксперта);  3) наименование объекта экспертизы, на который распространяется действие заключения  экспертизы;  4) данные о заказчике (наименование организации, ее организационно-правовая форма);  5) цель экспертизы;'}]"
     },
     "execution_count": 129,
     "metadata": {},
     "output_type": "execute_result"
    }
   ],
   "source": [
    "random.sample(pages_and_texts, k=3)"
   ],
   "metadata": {
    "collapsed": false,
    "ExecuteTime": {
     "end_time": "2024-03-24T15:47:34.248738600Z",
     "start_time": "2024-03-24T15:47:34.048623400Z"
    }
   },
   "id": "cb3b87536844d2df",
   "execution_count": 129
  },
  {
   "cell_type": "code",
   "outputs": [],
   "source": [
    "dataframe = pd.DataFrame(pages_and_texts)"
   ],
   "metadata": {
    "collapsed": false,
    "ExecuteTime": {
     "end_time": "2024-03-24T15:47:35.642843600Z",
     "start_time": "2024-03-24T15:47:35.534660Z"
    }
   },
   "id": "38d226fe949107de",
   "execution_count": 130
  },
  {
   "cell_type": "code",
   "outputs": [
    {
     "data": {
      "text/plain": "    page_number  page_char_count  page_word_count  page_sentence_count_row  \\\n0             1             1362              223                       16   \n1             2             2158              301                       16   \n2             3             2135              310                       18   \n3             4             2158              305                        9   \n4             5             2209              310                       18   \n5             6             2480              347                       20   \n6             7             2577              336                       15   \n7             8             2343              289                        7   \n8             9             2735              366                        8   \n9            10             2309              307                       13   \n10           11             2599              355                       11   \n11           12             1719              232                       10   \n\n    page_token_count                                               text  \n0             340.50  Зарегистрировано в Минюсте России 11 декабря 2...  \n1             539.50  и атомному надзору  от 20 октября 2020 г. N 42...  \n2             533.75  <1> Пункт 2 статьи 7 Федерального закона от 21...  \n3             539.50  2) иметь стаж работы не менее 10 лет по специа...  \n4             552.25  основании организации, в трудовых отношениях с...  \n5             620.00  проведению экспертизы промышленной безопасност...  \n6             644.25  <13> Пункт 3 статьи 2 Федерального закона от 2...  \n7             585.75  расследования аварий и инцидентов, связанных с...  \n8             683.75  а) определение соответствия строительных конст...  \n9             577.25  выполнению этих работ и учитывать результаты р...  \n10            649.75  6) сведения о рассмотренных в процессе эксперт...  \n11            429.75  о достаточности мер предотвращения проникновен...  ",
      "text/html": "<div>\n<style scoped>\n    .dataframe tbody tr th:only-of-type {\n        vertical-align: middle;\n    }\n\n    .dataframe tbody tr th {\n        vertical-align: top;\n    }\n\n    .dataframe thead th {\n        text-align: right;\n    }\n</style>\n<table border=\"1\" class=\"dataframe\">\n  <thead>\n    <tr style=\"text-align: right;\">\n      <th></th>\n      <th>page_number</th>\n      <th>page_char_count</th>\n      <th>page_word_count</th>\n      <th>page_sentence_count_row</th>\n      <th>page_token_count</th>\n      <th>text</th>\n    </tr>\n  </thead>\n  <tbody>\n    <tr>\n      <th>0</th>\n      <td>1</td>\n      <td>1362</td>\n      <td>223</td>\n      <td>16</td>\n      <td>340.50</td>\n      <td>Зарегистрировано в Минюсте России 11 декабря 2...</td>\n    </tr>\n    <tr>\n      <th>1</th>\n      <td>2</td>\n      <td>2158</td>\n      <td>301</td>\n      <td>16</td>\n      <td>539.50</td>\n      <td>и атомному надзору  от 20 октября 2020 г. N 42...</td>\n    </tr>\n    <tr>\n      <th>2</th>\n      <td>3</td>\n      <td>2135</td>\n      <td>310</td>\n      <td>18</td>\n      <td>533.75</td>\n      <td>&lt;1&gt; Пункт 2 статьи 7 Федерального закона от 21...</td>\n    </tr>\n    <tr>\n      <th>3</th>\n      <td>4</td>\n      <td>2158</td>\n      <td>305</td>\n      <td>9</td>\n      <td>539.50</td>\n      <td>2) иметь стаж работы не менее 10 лет по специа...</td>\n    </tr>\n    <tr>\n      <th>4</th>\n      <td>5</td>\n      <td>2209</td>\n      <td>310</td>\n      <td>18</td>\n      <td>552.25</td>\n      <td>основании организации, в трудовых отношениях с...</td>\n    </tr>\n    <tr>\n      <th>5</th>\n      <td>6</td>\n      <td>2480</td>\n      <td>347</td>\n      <td>20</td>\n      <td>620.00</td>\n      <td>проведению экспертизы промышленной безопасност...</td>\n    </tr>\n    <tr>\n      <th>6</th>\n      <td>7</td>\n      <td>2577</td>\n      <td>336</td>\n      <td>15</td>\n      <td>644.25</td>\n      <td>&lt;13&gt; Пункт 3 статьи 2 Федерального закона от 2...</td>\n    </tr>\n    <tr>\n      <th>7</th>\n      <td>8</td>\n      <td>2343</td>\n      <td>289</td>\n      <td>7</td>\n      <td>585.75</td>\n      <td>расследования аварий и инцидентов, связанных с...</td>\n    </tr>\n    <tr>\n      <th>8</th>\n      <td>9</td>\n      <td>2735</td>\n      <td>366</td>\n      <td>8</td>\n      <td>683.75</td>\n      <td>а) определение соответствия строительных конст...</td>\n    </tr>\n    <tr>\n      <th>9</th>\n      <td>10</td>\n      <td>2309</td>\n      <td>307</td>\n      <td>13</td>\n      <td>577.25</td>\n      <td>выполнению этих работ и учитывать результаты р...</td>\n    </tr>\n    <tr>\n      <th>10</th>\n      <td>11</td>\n      <td>2599</td>\n      <td>355</td>\n      <td>11</td>\n      <td>649.75</td>\n      <td>6) сведения о рассмотренных в процессе эксперт...</td>\n    </tr>\n    <tr>\n      <th>11</th>\n      <td>12</td>\n      <td>1719</td>\n      <td>232</td>\n      <td>10</td>\n      <td>429.75</td>\n      <td>о достаточности мер предотвращения проникновен...</td>\n    </tr>\n  </tbody>\n</table>\n</div>"
     },
     "execution_count": 131,
     "metadata": {},
     "output_type": "execute_result"
    }
   ],
   "source": [
    "dataframe"
   ],
   "metadata": {
    "collapsed": false,
    "ExecuteTime": {
     "end_time": "2024-03-24T15:47:36.650970100Z",
     "start_time": "2024-03-24T15:47:36.597416400Z"
    }
   },
   "id": "aabad25dff27cd84",
   "execution_count": 131
  },
  {
   "cell_type": "code",
   "outputs": [
    {
     "data": {
      "text/plain": "       page_number  page_char_count  page_word_count  page_sentence_count_row  \\\ncount         12.0             12.0             12.0                     12.0   \nmean           6.0           2232.0            307.0                     13.0   \nstd            4.0            385.0             44.0                      4.0   \nmin            1.0           1362.0            223.0                      7.0   \n25%            4.0           2152.0            298.0                     10.0   \n50%            6.0           2259.0            308.0                     14.0   \n75%            9.0           2504.0            339.0                     16.0   \nmax           12.0           2735.0            366.0                     20.0   \n\n       page_token_count  \ncount              12.0  \nmean              558.0  \nstd                96.0  \nmin               340.0  \n25%               538.0  \n50%               565.0  \n75%               626.0  \nmax               684.0  ",
      "text/html": "<div>\n<style scoped>\n    .dataframe tbody tr th:only-of-type {\n        vertical-align: middle;\n    }\n\n    .dataframe tbody tr th {\n        vertical-align: top;\n    }\n\n    .dataframe thead th {\n        text-align: right;\n    }\n</style>\n<table border=\"1\" class=\"dataframe\">\n  <thead>\n    <tr style=\"text-align: right;\">\n      <th></th>\n      <th>page_number</th>\n      <th>page_char_count</th>\n      <th>page_word_count</th>\n      <th>page_sentence_count_row</th>\n      <th>page_token_count</th>\n    </tr>\n  </thead>\n  <tbody>\n    <tr>\n      <th>count</th>\n      <td>12.0</td>\n      <td>12.0</td>\n      <td>12.0</td>\n      <td>12.0</td>\n      <td>12.0</td>\n    </tr>\n    <tr>\n      <th>mean</th>\n      <td>6.0</td>\n      <td>2232.0</td>\n      <td>307.0</td>\n      <td>13.0</td>\n      <td>558.0</td>\n    </tr>\n    <tr>\n      <th>std</th>\n      <td>4.0</td>\n      <td>385.0</td>\n      <td>44.0</td>\n      <td>4.0</td>\n      <td>96.0</td>\n    </tr>\n    <tr>\n      <th>min</th>\n      <td>1.0</td>\n      <td>1362.0</td>\n      <td>223.0</td>\n      <td>7.0</td>\n      <td>340.0</td>\n    </tr>\n    <tr>\n      <th>25%</th>\n      <td>4.0</td>\n      <td>2152.0</td>\n      <td>298.0</td>\n      <td>10.0</td>\n      <td>538.0</td>\n    </tr>\n    <tr>\n      <th>50%</th>\n      <td>6.0</td>\n      <td>2259.0</td>\n      <td>308.0</td>\n      <td>14.0</td>\n      <td>565.0</td>\n    </tr>\n    <tr>\n      <th>75%</th>\n      <td>9.0</td>\n      <td>2504.0</td>\n      <td>339.0</td>\n      <td>16.0</td>\n      <td>626.0</td>\n    </tr>\n    <tr>\n      <th>max</th>\n      <td>12.0</td>\n      <td>2735.0</td>\n      <td>366.0</td>\n      <td>20.0</td>\n      <td>684.0</td>\n    </tr>\n  </tbody>\n</table>\n</div>"
     },
     "execution_count": 133,
     "metadata": {},
     "output_type": "execute_result"
    }
   ],
   "source": [
    "dataframe.describe().round()"
   ],
   "metadata": {
    "collapsed": false,
    "ExecuteTime": {
     "end_time": "2024-03-24T15:49:49.416895800Z",
     "start_time": "2024-03-24T15:49:49.317767700Z"
    }
   },
   "id": "98bab5d8f9a6872c",
   "execution_count": 133
  },
  {
   "cell_type": "markdown",
   "source": [
    "### Text Processing (Splitting pages into sentences )"
   ],
   "metadata": {
    "collapsed": false
   },
   "id": "829f6daf084ba06d"
  },
  {
   "cell_type": "code",
   "outputs": [
    {
     "data": {
      "text/plain": "[Это предложение., Это другое предложение., дааа]"
     },
     "execution_count": 166,
     "metadata": {},
     "output_type": "execute_result"
    }
   ],
   "source": [
    "import spacy\n",
    "from spacy.lang.ru import Russian\n",
    "\n",
    "nlp = Russian()\n",
    "nlp.add_pipe('sentencizer')\n",
    "\n",
    "doc = nlp(\"Это предложение. Это другое предложение. дааа\")\n",
    "assert len(list(doc.sents)) == 3\n",
    "list(doc.sents)"
   ],
   "metadata": {
    "collapsed": false,
    "ExecuteTime": {
     "end_time": "2024-03-24T17:16:26.591672500Z",
     "start_time": "2024-03-24T17:16:26.328971500Z"
    }
   },
   "id": "c8cf979ad214eab5",
   "execution_count": 166
  },
  {
   "cell_type": "code",
   "outputs": [],
   "source": [
    "from spacy.lang.ru import Russian\n",
    "\n",
    "nlp = Russian()\n",
    "nlp.add_pipe(\"sentencizer\")\n",
    "doc = nlp(\"Это предложение. Это другое предложение.\")\n",
    "assert len(list(doc.sents)) == 2"
   ],
   "metadata": {
    "collapsed": false,
    "ExecuteTime": {
     "end_time": "2024-03-24T17:14:28.667835900Z",
     "start_time": "2024-03-24T17:14:28.409032300Z"
    }
   },
   "id": "dce14012da9674c",
   "execution_count": 161
  },
  {
   "cell_type": "code",
   "outputs": [
    {
     "data": {
      "text/plain": "[Это предложение., Это другое предложение.]"
     },
     "execution_count": 162,
     "metadata": {},
     "output_type": "execute_result"
    }
   ],
   "source": [
    "list(doc.sents)"
   ],
   "metadata": {
    "collapsed": false,
    "ExecuteTime": {
     "end_time": "2024-03-24T17:14:29.439590500Z",
     "start_time": "2024-03-24T17:14:29.397603400Z"
    }
   },
   "id": "7200ed46a601ad8",
   "execution_count": 162
  },
  {
   "cell_type": "code",
   "outputs": [
    {
     "name": "stderr",
     "output_type": "stream",
     "text": [
      "100%|██████████| 12/12 [00:00<00:00, 59.48it/s]\n"
     ]
    }
   ],
   "source": [
    "for item in tqdm(pages_and_texts):\n",
    "    item[\"sentence\"] = list(nlp(item[\"text\"]).sents)\n",
    "    \n",
    "    item[\"sentence\"] = [str(sentence) for sentence in item[\"sentence\"]]\n",
    "    \n",
    "    item[\"page_sentence_count_spacy\"] = len(item['sentence'])"
   ],
   "metadata": {
    "collapsed": false,
    "ExecuteTime": {
     "end_time": "2024-03-24T17:25:23.553664700Z",
     "start_time": "2024-03-24T17:25:23.315621100Z"
    }
   },
   "id": "2cb61ebf9f26c959",
   "execution_count": 169
  },
  {
   "cell_type": "code",
   "outputs": [
    {
     "data": {
      "text/plain": "       page_number  page_char_count  page_word_count  page_sentence_count_row  \\\ncount         12.0             12.0             12.0                     12.0   \nmean           6.0           2232.0            307.0                     13.0   \nstd            4.0            385.0             44.0                      4.0   \nmin            1.0           1362.0            223.0                      7.0   \n25%            4.0           2152.0            298.0                     10.0   \n50%            6.0           2259.0            308.0                     14.0   \n75%            9.0           2504.0            339.0                     16.0   \nmax           12.0           2735.0            366.0                     20.0   \n\n       page_token_count  page_sentence_count_spacy  num_chunks  \ncount              12.0                       12.0        12.0  \nmean              558.0                       11.0         2.0  \nstd                96.0                        4.0         1.0  \nmin               340.0                        5.0         1.0  \n25%               538.0                        9.0         2.0  \n50%               565.0                       10.0         2.0  \n75%               626.0                       13.0         2.0  \nmax               684.0                       17.0         3.0  ",
      "text/html": "<div>\n<style scoped>\n    .dataframe tbody tr th:only-of-type {\n        vertical-align: middle;\n    }\n\n    .dataframe tbody tr th {\n        vertical-align: top;\n    }\n\n    .dataframe thead th {\n        text-align: right;\n    }\n</style>\n<table border=\"1\" class=\"dataframe\">\n  <thead>\n    <tr style=\"text-align: right;\">\n      <th></th>\n      <th>page_number</th>\n      <th>page_char_count</th>\n      <th>page_word_count</th>\n      <th>page_sentence_count_row</th>\n      <th>page_token_count</th>\n      <th>page_sentence_count_spacy</th>\n      <th>num_chunks</th>\n    </tr>\n  </thead>\n  <tbody>\n    <tr>\n      <th>count</th>\n      <td>12.0</td>\n      <td>12.0</td>\n      <td>12.0</td>\n      <td>12.0</td>\n      <td>12.0</td>\n      <td>12.0</td>\n      <td>12.0</td>\n    </tr>\n    <tr>\n      <th>mean</th>\n      <td>6.0</td>\n      <td>2232.0</td>\n      <td>307.0</td>\n      <td>13.0</td>\n      <td>558.0</td>\n      <td>11.0</td>\n      <td>2.0</td>\n    </tr>\n    <tr>\n      <th>std</th>\n      <td>4.0</td>\n      <td>385.0</td>\n      <td>44.0</td>\n      <td>4.0</td>\n      <td>96.0</td>\n      <td>4.0</td>\n      <td>1.0</td>\n    </tr>\n    <tr>\n      <th>min</th>\n      <td>1.0</td>\n      <td>1362.0</td>\n      <td>223.0</td>\n      <td>7.0</td>\n      <td>340.0</td>\n      <td>5.0</td>\n      <td>1.0</td>\n    </tr>\n    <tr>\n      <th>25%</th>\n      <td>4.0</td>\n      <td>2152.0</td>\n      <td>298.0</td>\n      <td>10.0</td>\n      <td>538.0</td>\n      <td>9.0</td>\n      <td>2.0</td>\n    </tr>\n    <tr>\n      <th>50%</th>\n      <td>6.0</td>\n      <td>2259.0</td>\n      <td>308.0</td>\n      <td>14.0</td>\n      <td>565.0</td>\n      <td>10.0</td>\n      <td>2.0</td>\n    </tr>\n    <tr>\n      <th>75%</th>\n      <td>9.0</td>\n      <td>2504.0</td>\n      <td>339.0</td>\n      <td>16.0</td>\n      <td>626.0</td>\n      <td>13.0</td>\n      <td>2.0</td>\n    </tr>\n    <tr>\n      <th>max</th>\n      <td>12.0</td>\n      <td>2735.0</td>\n      <td>366.0</td>\n      <td>20.0</td>\n      <td>684.0</td>\n      <td>17.0</td>\n      <td>3.0</td>\n    </tr>\n  </tbody>\n</table>\n</div>"
     },
     "execution_count": 180,
     "metadata": {},
     "output_type": "execute_result"
    }
   ],
   "source": [
    "df = pd.DataFrame(pages_and_texts)\n",
    "\n",
    "df.describe().round()"
   ],
   "metadata": {
    "collapsed": false,
    "ExecuteTime": {
     "end_time": "2024-03-24T17:56:18.396432100Z",
     "start_time": "2024-03-24T17:56:18.286899400Z"
    }
   },
   "id": "707da08c9c099e20",
   "execution_count": 180
  },
  {
   "cell_type": "code",
   "outputs": [
    {
     "data": {
      "text/plain": "[{'page_number': 8,\n  'page_char_count': 2343,\n  'page_word_count': 289,\n  'page_sentence_count_row': 7,\n  'page_token_count': 585.75,\n  'text': 'расследования аварий и инцидентов, связанных с эксплуатацией технических устройств,  заключения экспертизы ранее проводимых экспертиз) и режимам эксплуатации  технических устройств (при наличии);  б) расчетные и аналитические процедуры оценки и прогнозирования технического  состояния технических устройств (в случаях, при которых проводится техническое  диагностирование технических устройств).  25. Техническое диагностирование технических устройств включает следующие  мероприятия:  а) визуальный и измерительный контроль;  б) оперативное (функциональное) диагностирование для получения информации о  состоянии, фактических параметрах работы, фактического нагружения технического  устройства в реальных условиях эксплуатации;  в) определение действующих повреждающих факторов, механизмов повреждения и  восприимчивости материала технического устройства к механизмам повреждения;  г) оценку качества соединений элементов технического устройства (при наличии);  д) выбор методов неразрушающего или разрушающего контроля, наиболее эффективно  выявляющих  дефекты,  образующиеся  в  результате  воздействия  установленных  механизмов повреждения (при наличии);  е) неразрушающий контроль или разрушающий контроль металла и сварных соединений  технического устройства (при наличии);  ж) оценку выявленных дефектов на основании результатов визуального и измерительного  контроля, методов неразрушающего или разрушающего контроля;  з) исследование материалов технического устройства;  и) расчетные и аналитические процедуры оценки и прогнозирования технического  состояния технического устройства, включающие анализ режимов работы и исследование  напряженно-деформированного состояния;  к) оценку остаточного ресурса (срока службы).  26. При проведении экспертизы зданий и сооружений анализируются:  а) проектная и исполнительная документация на строительство, реконструкцию здания  (сооружения), разрешение на ввод в эксплуатацию здания (сооружения);  б) документы, удостоверяющие качество строительных конструкций и материалов;  в) акты расследования аварий;  г) заключения экспертизы ранее проводимых экспертиз здания (сооружения);  д) эксплуатационная документация, документация о текущих и капитальных ремонтах,  документация об изменениях конструкций зданий (сооружений).  27. Обследование зданий и сооружений включает следующие мероприятия:',\n  'sentence': ['расследования аварий и инцидентов, связанных с эксплуатацией технических устройств,  заключения экспертизы ранее проводимых экспертиз) и режимам эксплуатации  технических устройств (при наличии);  б) расчетные и аналитические процедуры оценки и прогнозирования технического  состояния технических устройств (в случаях, при которых проводится техническое  диагностирование технических устройств).',\n   ' 25.',\n   'Техническое диагностирование технических устройств включает следующие  мероприятия:  а) визуальный и измерительный контроль;  б) оперативное (функциональное) диагностирование для получения информации о  состоянии, фактических параметрах работы, фактического нагружения технического  устройства в реальных условиях эксплуатации;  в) определение действующих повреждающих факторов, механизмов повреждения и  восприимчивости материала технического устройства к механизмам повреждения;  г) оценку качества соединений элементов технического устройства (при наличии);  д) выбор методов неразрушающего или разрушающего контроля, наиболее эффективно  выявляющих  дефекты,  образующиеся  в  результате  воздействия  установленных  механизмов повреждения (при наличии);  е) неразрушающий контроль или разрушающий контроль металла и сварных соединений  технического устройства (при наличии);  ж) оценку выявленных дефектов на основании результатов визуального и измерительного  контроля, методов неразрушающего или разрушающего контроля;  з) исследование материалов технического устройства;  и) расчетные и аналитические процедуры оценки и прогнозирования технического  состояния технического устройства, включающие анализ режимов работы и исследование  напряженно-деформированного состояния;  к) оценку остаточного ресурса (срока службы).',\n   ' 26.',\n   'При проведении экспертизы зданий и сооружений анализируются:  а) проектная и исполнительная документация на строительство, реконструкцию здания  (сооружения), разрешение на ввод в эксплуатацию здания (сооружения);  б) документы, удостоверяющие качество строительных конструкций и материалов;  в) акты расследования аварий;  г) заключения экспертизы ранее проводимых экспертиз здания (сооружения);  д) эксплуатационная документация, документация о текущих и капитальных ремонтах,  документация об изменениях конструкций зданий (сооружений).',\n   ' 27.',\n   'Обследование зданий и сооружений включает следующие мероприятия:'],\n  'page_sentence_count_spacy': 7}]"
     },
     "execution_count": 170,
     "metadata": {},
     "output_type": "execute_result"
    }
   ],
   "source": [
    "random.sample(pages_and_texts, k=1)"
   ],
   "metadata": {
    "collapsed": false,
    "ExecuteTime": {
     "end_time": "2024-03-24T17:26:06.477512Z",
     "start_time": "2024-03-24T17:26:06.406980700Z"
    }
   },
   "id": "2a12c901a7ce3766",
   "execution_count": 170
  },
  {
   "cell_type": "markdown",
   "source": [
    "### Chunking Sentences "
   ],
   "metadata": {
    "collapsed": false
   },
   "id": "33cd891a2b0a885e"
  },
  {
   "cell_type": "code",
   "outputs": [],
   "source": [
    "num_sentence_chunk_size = 7\n",
    "\n",
    "def split_list(input_list: list[str], slice_size: int=num_sentence_chunk_size) -> list[list[str]]:\n",
    "    return [input_list[i:i+slice_size] for i in range(0, len(input_list), slice_size)]"
   ],
   "metadata": {
    "collapsed": false,
    "ExecuteTime": {
     "end_time": "2024-03-24T17:39:52.754755300Z",
     "start_time": "2024-03-24T17:39:52.726055400Z"
    }
   },
   "id": "804cd50c619c254d",
   "execution_count": 175
  },
  {
   "cell_type": "code",
   "outputs": [
    {
     "data": {
      "text/plain": "[[0, 1, 2, 3, 4, 5, 6], [7, 8, 9]]"
     },
     "execution_count": 174,
     "metadata": {},
     "output_type": "execute_result"
    }
   ],
   "source": [
    "test_list=list(range(10))\n",
    "split_list(test_list)"
   ],
   "metadata": {
    "collapsed": false,
    "ExecuteTime": {
     "end_time": "2024-03-24T17:39:23.335013300Z",
     "start_time": "2024-03-24T17:39:23.287478Z"
    }
   },
   "id": "b688adc3f5524d67",
   "execution_count": 174
  },
  {
   "cell_type": "code",
   "outputs": [
    {
     "name": "stderr",
     "output_type": "stream",
     "text": [
      "100%|██████████| 12/12 [00:00<00:00, 12090.23it/s]\n"
     ]
    }
   ],
   "source": [
    "for item in tqdm(pages_and_texts):\n",
    "    item[\"sentence_chunks\"] = split_list(input_list=item[\"sentence\"], slice_size=num_sentence_chunk_size)\n",
    "    item[\"num_chunks\"] = len(item[\"sentence_chunks\"])"
   ],
   "metadata": {
    "collapsed": false,
    "ExecuteTime": {
     "end_time": "2024-03-24T17:52:19.305555200Z",
     "start_time": "2024-03-24T17:52:19.256994200Z"
    }
   },
   "id": "cf5724518a68352f",
   "execution_count": 178
  },
  {
   "cell_type": "code",
   "outputs": [
    {
     "data": {
      "text/plain": "       page_number  page_char_count  page_word_count  page_sentence_count_row  \\\ncount         12.0             12.0             12.0                     12.0   \nmean           6.0           2232.0            307.0                     13.0   \nstd            4.0            385.0             44.0                      4.0   \nmin            1.0           1362.0            223.0                      7.0   \n25%            4.0           2152.0            298.0                     10.0   \n50%            6.0           2259.0            308.0                     14.0   \n75%            9.0           2504.0            339.0                     16.0   \nmax           12.0           2735.0            366.0                     20.0   \n\n       page_token_count  page_sentence_count_spacy  num_chunks  \ncount              12.0                       12.0        12.0  \nmean              558.0                       11.0         2.0  \nstd                96.0                        4.0         1.0  \nmin               340.0                        5.0         1.0  \n25%               538.0                        9.0         2.0  \n50%               565.0                       10.0         2.0  \n75%               626.0                       13.0         2.0  \nmax               684.0                       17.0         3.0  ",
      "text/html": "<div>\n<style scoped>\n    .dataframe tbody tr th:only-of-type {\n        vertical-align: middle;\n    }\n\n    .dataframe tbody tr th {\n        vertical-align: top;\n    }\n\n    .dataframe thead th {\n        text-align: right;\n    }\n</style>\n<table border=\"1\" class=\"dataframe\">\n  <thead>\n    <tr style=\"text-align: right;\">\n      <th></th>\n      <th>page_number</th>\n      <th>page_char_count</th>\n      <th>page_word_count</th>\n      <th>page_sentence_count_row</th>\n      <th>page_token_count</th>\n      <th>page_sentence_count_spacy</th>\n      <th>num_chunks</th>\n    </tr>\n  </thead>\n  <tbody>\n    <tr>\n      <th>count</th>\n      <td>12.0</td>\n      <td>12.0</td>\n      <td>12.0</td>\n      <td>12.0</td>\n      <td>12.0</td>\n      <td>12.0</td>\n      <td>12.0</td>\n    </tr>\n    <tr>\n      <th>mean</th>\n      <td>6.0</td>\n      <td>2232.0</td>\n      <td>307.0</td>\n      <td>13.0</td>\n      <td>558.0</td>\n      <td>11.0</td>\n      <td>2.0</td>\n    </tr>\n    <tr>\n      <th>std</th>\n      <td>4.0</td>\n      <td>385.0</td>\n      <td>44.0</td>\n      <td>4.0</td>\n      <td>96.0</td>\n      <td>4.0</td>\n      <td>1.0</td>\n    </tr>\n    <tr>\n      <th>min</th>\n      <td>1.0</td>\n      <td>1362.0</td>\n      <td>223.0</td>\n      <td>7.0</td>\n      <td>340.0</td>\n      <td>5.0</td>\n      <td>1.0</td>\n    </tr>\n    <tr>\n      <th>25%</th>\n      <td>4.0</td>\n      <td>2152.0</td>\n      <td>298.0</td>\n      <td>10.0</td>\n      <td>538.0</td>\n      <td>9.0</td>\n      <td>2.0</td>\n    </tr>\n    <tr>\n      <th>50%</th>\n      <td>6.0</td>\n      <td>2259.0</td>\n      <td>308.0</td>\n      <td>14.0</td>\n      <td>565.0</td>\n      <td>10.0</td>\n      <td>2.0</td>\n    </tr>\n    <tr>\n      <th>75%</th>\n      <td>9.0</td>\n      <td>2504.0</td>\n      <td>339.0</td>\n      <td>16.0</td>\n      <td>626.0</td>\n      <td>13.0</td>\n      <td>2.0</td>\n    </tr>\n    <tr>\n      <th>max</th>\n      <td>12.0</td>\n      <td>2735.0</td>\n      <td>366.0</td>\n      <td>20.0</td>\n      <td>684.0</td>\n      <td>17.0</td>\n      <td>3.0</td>\n    </tr>\n  </tbody>\n</table>\n</div>"
     },
     "execution_count": 179,
     "metadata": {},
     "output_type": "execute_result"
    }
   ],
   "source": [
    "df = pd.DataFrame(pages_and_texts)\n",
    "df.describe().round()"
   ],
   "metadata": {
    "collapsed": false,
    "ExecuteTime": {
     "end_time": "2024-03-24T17:54:24.194574900Z",
     "start_time": "2024-03-24T17:54:24.001467200Z"
    }
   },
   "id": "264841fd47f46a97",
   "execution_count": 179
  },
  {
   "cell_type": "code",
   "outputs": [
    {
     "name": "stderr",
     "output_type": "stream",
     "text": [
      "100%|██████████| 12/12 [00:00<00:00, 408.05it/s]\n"
     ]
    },
    {
     "data": {
      "text/plain": "24"
     },
     "execution_count": 198,
     "metadata": {},
     "output_type": "execute_result"
    }
   ],
   "source": [
    "import re\n",
    "\n",
    "pages_chunks = []\n",
    "\n",
    "for item in tqdm(pages_and_texts):\n",
    "    for sentence_chunk in item['sentence_chunks']:\n",
    "        chunk_dict = {}\n",
    "        chunk_dict[\"page_number\"] = item[\"page_number\"]\n",
    "        \n",
    "        joined_sentence_chunk = \"\".join(sentence_chunk).replace(\" \", \" \").strip()\n",
    "        joined_sentence_chunk = re.sub(r'\\.([A-Z])', r' . \\1', joined_sentence_chunk)\n",
    "        \n",
    "        chunk_dict[\"sentence_chunk\"] = joined_sentence_chunk\n",
    "        chunk_dict[\"chunk_char_count\"] = len(joined_sentence_chunk)\n",
    "        chunk_dict[\"chunk_word_count\"] = len([word for word in joined_sentence_chunk.split(\" \")])\n",
    "        chunk_dict[\"chunk_token_count\"] = len(joined_sentence_chunk) / 4\n",
    "        \n",
    "        pages_chunks.append(chunk_dict)\n",
    "\n",
    "len(pages_chunks)\n",
    "        "
   ],
   "metadata": {
    "collapsed": false,
    "ExecuteTime": {
     "end_time": "2024-03-26T15:55:46.522287600Z",
     "start_time": "2024-03-26T15:55:46.408523700Z"
    }
   },
   "id": "6a555b93df59e072",
   "execution_count": 198
  },
  {
   "cell_type": "code",
   "outputs": [
    {
     "data": {
      "text/plain": "[{'page_number': 7,\n  'sentence_chunk': '<13> Пункт 3 статьи 2 Федерального закона от 21 июля 1997 г. N 116-ФЗ \"О  промышленной безопасности опасных производственных объектов\".   21.Экспертная организация приступает к проведению экспертизы после:  предоставления заказчиком необходимых для проведения экспертизы документов;  предоставления образцов технических устройств либо обеспечения доступа экспертов к  техническим устройствам, зданиям и сооружениям, применяемым на опасном  производственном объекте. 22.Заказчик обязан предоставить безопасный доступ экспертам, участвующим в  проведении экспертизы, к техническим устройствам, применяемым на опасном  производственном объекте, к зданиям и сооружениям опасных производственных  объектов, в отношении которых проводится экспертиза. Эксперты, участвующие в проведении экспертизы, обязаны соблюдать положения  нормативных  правовых  актов,  устанавливающих  требования  промышленной  безопасности, а также правила ведения работ на опасном производственном объекте,  установленные заказчиком. 23.При проведении экспертизы устанавливается полнота и достоверность относящихся к  объекту экспертизы документов, предоставленных заказчиком, оценивается фактическое  состояние технических устройств, зданий и сооружений на опасных производственных  объектах.',\n  'chunk_char_count': 1262,\n  'chunk_word_count': 156,\n  'chunk_token_count': 315.5}]"
     },
     "execution_count": 200,
     "metadata": {},
     "output_type": "execute_result"
    }
   ],
   "source": [
    "random.sample(pages_chunks, k=1)"
   ],
   "metadata": {
    "collapsed": false,
    "ExecuteTime": {
     "end_time": "2024-03-26T15:56:10.715610100Z",
     "start_time": "2024-03-26T15:56:10.680338500Z"
    }
   },
   "id": "f59a968057bcfbe2",
   "execution_count": 200
  },
  {
   "cell_type": "code",
   "outputs": [
    {
     "data": {
      "text/plain": "       page_number  chunk_char_count  chunk_word_count  chunk_token_count\ncount         24.0              24.0              24.0               24.0\nmean           7.0            1189.0             159.0              297.0\nstd            3.0             639.0              84.0              160.0\nmin            1.0              68.0               8.0               17.0\n25%            4.0             868.0             112.0              217.0\n50%            6.0            1249.0             162.0              312.0\n75%            9.0            1432.0             198.0              358.0\nmax           12.0            2728.0             359.0              682.0",
      "text/html": "<div>\n<style scoped>\n    .dataframe tbody tr th:only-of-type {\n        vertical-align: middle;\n    }\n\n    .dataframe tbody tr th {\n        vertical-align: top;\n    }\n\n    .dataframe thead th {\n        text-align: right;\n    }\n</style>\n<table border=\"1\" class=\"dataframe\">\n  <thead>\n    <tr style=\"text-align: right;\">\n      <th></th>\n      <th>page_number</th>\n      <th>chunk_char_count</th>\n      <th>chunk_word_count</th>\n      <th>chunk_token_count</th>\n    </tr>\n  </thead>\n  <tbody>\n    <tr>\n      <th>count</th>\n      <td>24.0</td>\n      <td>24.0</td>\n      <td>24.0</td>\n      <td>24.0</td>\n    </tr>\n    <tr>\n      <th>mean</th>\n      <td>7.0</td>\n      <td>1189.0</td>\n      <td>159.0</td>\n      <td>297.0</td>\n    </tr>\n    <tr>\n      <th>std</th>\n      <td>3.0</td>\n      <td>639.0</td>\n      <td>84.0</td>\n      <td>160.0</td>\n    </tr>\n    <tr>\n      <th>min</th>\n      <td>1.0</td>\n      <td>68.0</td>\n      <td>8.0</td>\n      <td>17.0</td>\n    </tr>\n    <tr>\n      <th>25%</th>\n      <td>4.0</td>\n      <td>868.0</td>\n      <td>112.0</td>\n      <td>217.0</td>\n    </tr>\n    <tr>\n      <th>50%</th>\n      <td>6.0</td>\n      <td>1249.0</td>\n      <td>162.0</td>\n      <td>312.0</td>\n    </tr>\n    <tr>\n      <th>75%</th>\n      <td>9.0</td>\n      <td>1432.0</td>\n      <td>198.0</td>\n      <td>358.0</td>\n    </tr>\n    <tr>\n      <th>max</th>\n      <td>12.0</td>\n      <td>2728.0</td>\n      <td>359.0</td>\n      <td>682.0</td>\n    </tr>\n  </tbody>\n</table>\n</div>"
     },
     "execution_count": 201,
     "metadata": {},
     "output_type": "execute_result"
    }
   ],
   "source": [
    "df = pd.DataFrame(pages_chunks)\n",
    "\n",
    "df.describe().round()"
   ],
   "metadata": {
    "collapsed": false,
    "ExecuteTime": {
     "end_time": "2024-03-26T15:58:23.044187100Z",
     "start_time": "2024-03-26T15:58:22.885366100Z"
    }
   },
   "id": "8fdbba4016a2dceb",
   "execution_count": 201
  },
  {
   "cell_type": "code",
   "outputs": [
    {
     "ename": "ValueError",
     "evalue": "a must be greater than 0 unless no samples are taken",
     "output_type": "error",
     "traceback": [
      "\u001B[1;31m---------------------------------------------------------------------------\u001B[0m",
      "\u001B[1;31mValueError\u001B[0m                                Traceback (most recent call last)",
      "Cell \u001B[1;32mIn[207], line 4\u001B[0m\n\u001B[0;32m      1\u001B[0m \u001B[38;5;66;03m# Show random chunks with few tokens\u001B[39;00m\n\u001B[0;32m      3\u001B[0m min_token_length \u001B[38;5;241m=\u001B[39m \u001B[38;5;241m15\u001B[39m\n\u001B[1;32m----> 4\u001B[0m \u001B[38;5;28;01mfor\u001B[39;00m row \u001B[38;5;129;01min\u001B[39;00m \u001B[43mdf\u001B[49m\u001B[43m[\u001B[49m\u001B[43mdf\u001B[49m\u001B[43m[\u001B[49m\u001B[38;5;124;43m\"\u001B[39;49m\u001B[38;5;124;43mchunk_token_count\u001B[39;49m\u001B[38;5;124;43m\"\u001B[39;49m\u001B[43m]\u001B[49m\u001B[43m \u001B[49m\u001B[38;5;241;43m<\u001B[39;49m\u001B[38;5;241;43m=\u001B[39;49m\u001B[43m \u001B[49m\u001B[43mmin_token_length\u001B[49m\u001B[43m]\u001B[49m\u001B[38;5;241;43m.\u001B[39;49m\u001B[43msample\u001B[49m\u001B[43m(\u001B[49m\u001B[38;5;241;43m3\u001B[39;49m\u001B[43m)\u001B[49m\u001B[38;5;241m.\u001B[39miterrows():\n\u001B[0;32m      5\u001B[0m     \u001B[38;5;28mprint\u001B[39m(\u001B[38;5;124mf\u001B[39m\u001B[38;5;124m'\u001B[39m\u001B[38;5;124mChunk token count: \u001B[39m\u001B[38;5;132;01m{\u001B[39;00mrow[\u001B[38;5;241m1\u001B[39m][\u001B[38;5;124m\"\u001B[39m\u001B[38;5;124mchunk_token_count\u001B[39m\u001B[38;5;124m\"\u001B[39m]\u001B[38;5;132;01m}\u001B[39;00m\u001B[38;5;124m | Text: \u001B[39m\u001B[38;5;132;01m{\u001B[39;00mrow[\u001B[38;5;241m1\u001B[39m][\u001B[38;5;124m\"\u001B[39m\u001B[38;5;124msentence_chunk\u001B[39m\u001B[38;5;124m\"\u001B[39m]\u001B[38;5;132;01m}\u001B[39;00m\u001B[38;5;124m'\u001B[39m)\n",
      "File \u001B[1;32m~\\AppData\\Local\\Programs\\Python\\Python310\\lib\\site-packages\\pandas\\core\\generic.py:6029\u001B[0m, in \u001B[0;36mNDFrame.sample\u001B[1;34m(self, n, frac, replace, weights, random_state, axis, ignore_index)\u001B[0m\n\u001B[0;32m   6026\u001B[0m \u001B[38;5;28;01mif\u001B[39;00m weights \u001B[38;5;129;01mis\u001B[39;00m \u001B[38;5;129;01mnot\u001B[39;00m \u001B[38;5;28;01mNone\u001B[39;00m:\n\u001B[0;32m   6027\u001B[0m     weights \u001B[38;5;241m=\u001B[39m sample\u001B[38;5;241m.\u001B[39mpreprocess_weights(\u001B[38;5;28mself\u001B[39m, weights, axis)\n\u001B[1;32m-> 6029\u001B[0m sampled_indices \u001B[38;5;241m=\u001B[39m \u001B[43msample\u001B[49m\u001B[38;5;241;43m.\u001B[39;49m\u001B[43msample\u001B[49m\u001B[43m(\u001B[49m\u001B[43mobj_len\u001B[49m\u001B[43m,\u001B[49m\u001B[43m \u001B[49m\u001B[43msize\u001B[49m\u001B[43m,\u001B[49m\u001B[43m \u001B[49m\u001B[43mreplace\u001B[49m\u001B[43m,\u001B[49m\u001B[43m \u001B[49m\u001B[43mweights\u001B[49m\u001B[43m,\u001B[49m\u001B[43m \u001B[49m\u001B[43mrs\u001B[49m\u001B[43m)\u001B[49m\n\u001B[0;32m   6030\u001B[0m result \u001B[38;5;241m=\u001B[39m \u001B[38;5;28mself\u001B[39m\u001B[38;5;241m.\u001B[39mtake(sampled_indices, axis\u001B[38;5;241m=\u001B[39maxis)\n\u001B[0;32m   6032\u001B[0m \u001B[38;5;28;01mif\u001B[39;00m ignore_index:\n",
      "File \u001B[1;32m~\\AppData\\Local\\Programs\\Python\\Python310\\lib\\site-packages\\pandas\\core\\sample.py:152\u001B[0m, in \u001B[0;36msample\u001B[1;34m(obj_len, size, replace, weights, random_state)\u001B[0m\n\u001B[0;32m    149\u001B[0m     \u001B[38;5;28;01melse\u001B[39;00m:\n\u001B[0;32m    150\u001B[0m         \u001B[38;5;28;01mraise\u001B[39;00m \u001B[38;5;167;01mValueError\u001B[39;00m(\u001B[38;5;124m\"\u001B[39m\u001B[38;5;124mInvalid weights: weights sum to zero\u001B[39m\u001B[38;5;124m\"\u001B[39m)\n\u001B[1;32m--> 152\u001B[0m \u001B[38;5;28;01mreturn\u001B[39;00m \u001B[43mrandom_state\u001B[49m\u001B[38;5;241;43m.\u001B[39;49m\u001B[43mchoice\u001B[49m\u001B[43m(\u001B[49m\u001B[43mobj_len\u001B[49m\u001B[43m,\u001B[49m\u001B[43m \u001B[49m\u001B[43msize\u001B[49m\u001B[38;5;241;43m=\u001B[39;49m\u001B[43msize\u001B[49m\u001B[43m,\u001B[49m\u001B[43m \u001B[49m\u001B[43mreplace\u001B[49m\u001B[38;5;241;43m=\u001B[39;49m\u001B[43mreplace\u001B[49m\u001B[43m,\u001B[49m\u001B[43m \u001B[49m\u001B[43mp\u001B[49m\u001B[38;5;241;43m=\u001B[39;49m\u001B[43mweights\u001B[49m\u001B[43m)\u001B[49m\u001B[38;5;241m.\u001B[39mastype(\n\u001B[0;32m    153\u001B[0m     np\u001B[38;5;241m.\u001B[39mintp, copy\u001B[38;5;241m=\u001B[39m\u001B[38;5;28;01mFalse\u001B[39;00m\n\u001B[0;32m    154\u001B[0m )\n",
      "File \u001B[1;32mmtrand.pyx:944\u001B[0m, in \u001B[0;36mnumpy.random.mtrand.RandomState.choice\u001B[1;34m()\u001B[0m\n",
      "\u001B[1;31mValueError\u001B[0m: a must be greater than 0 unless no samples are taken"
     ]
    }
   ],
   "source": [
    "# Show random chunks with few tokens\n",
    "\n",
    "min_token_length = 15\n",
    "for row in df[df[\"chunk_token_count\"] <= min_token_length].sample(3).iterrows():\n",
    "    print(f'Chunk token count: {row[1][\"chunk_token_count\"]} | Text: {row[1][\"sentence_chunk\"]}')"
   ],
   "metadata": {
    "collapsed": false,
    "ExecuteTime": {
     "end_time": "2024-03-27T14:57:34.911754300Z",
     "start_time": "2024-03-27T14:57:34.716667400Z"
    }
   },
   "id": "b7be38d9bfe2de44",
   "execution_count": 207
  },
  {
   "cell_type": "code",
   "outputs": [],
   "source": [],
   "metadata": {
    "collapsed": false
   },
   "id": "dcd4dcf5e2e3dd5e"
  }
 ],
 "metadata": {
  "kernelspec": {
   "display_name": "Python 3",
   "language": "python",
   "name": "python3"
  },
  "language_info": {
   "codemirror_mode": {
    "name": "ipython",
    "version": 2
   },
   "file_extension": ".py",
   "mimetype": "text/x-python",
   "name": "python",
   "nbconvert_exporter": "python",
   "pygments_lexer": "ipython2",
   "version": "2.7.6"
  }
 },
 "nbformat": 4,
 "nbformat_minor": 5
}
